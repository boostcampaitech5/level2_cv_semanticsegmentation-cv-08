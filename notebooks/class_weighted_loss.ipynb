{
 "cells": [
  {
   "cell_type": "code",
   "execution_count": 1,
   "metadata": {},
   "outputs": [],
   "source": [
    "import torch.nn.functional as F"
   ]
  },
  {
   "cell_type": "code",
   "execution_count": 12,
   "metadata": {},
   "outputs": [],
   "source": [
    "weighted_classes = [1] * 29\n",
    "weighted_classes = [19, 20, 25, 26]"
   ]
  },
  {
   "cell_type": "code",
   "execution_count": 2,
   "metadata": {},
   "outputs": [],
   "source": [
    "import torch"
   ]
  },
  {
   "cell_type": "code",
   "execution_count": 3,
   "metadata": {},
   "outputs": [],
   "source": [
    "import torch.nn as nn\n",
    "loss = nn.BCEWithLogitsLoss(pos_weight=torch.tensor(3))"
   ]
  },
  {
   "cell_type": "code",
   "execution_count": 48,
   "metadata": {},
   "outputs": [],
   "source": [
    "CLASSES = [\n",
    "    'finger-1', 'finger-2', 'finger-3', 'finger-4', 'finger-5',\n",
    "    'finger-6', 'finger-7', 'finger-8', 'finger-9', 'finger-10',\n",
    "    'finger-11', 'finger-12', 'finger-13', 'finger-14', 'finger-15',\n",
    "    'finger-16', 'finger-17', 'finger-18', 'finger-19', 'Trapezium',\n",
    "    'Trapezoid', 'Capitate', 'Hamate', 'Scaphoid', 'Lunate',\n",
    "    'Triquetrum', 'Pisiform', 'Radius', 'Ulna',\n",
    "]\n",
    "\n",
    "CLASS2IND = {v: i for i, v in enumerate(CLASSES)}\n",
    "\n",
    "class DiceLoss:\n",
    "    def __init__(self, smooth=1.0, sigmoid=True, class_weight=None):\n",
    "        self.smooth = smooth\n",
    "        self.sigmoid = sigmoid\n",
    "        self.class_weight = torch.ones([29])\n",
    "        if class_weight is not None:\n",
    "            for c, w in class_weight.items():\n",
    "                self.class_weight[CLASS2IND[c]] = w\n",
    "\n",
    "    def __call__(self, pred, target):\n",
    "        if self.sigmoid:\n",
    "            pred = F.sigmoid(pred)    \n",
    "        pred = pred.contiguous()\n",
    "        target = target.contiguous()\n",
    "        intersection = (pred * target).sum(dim=2).sum(dim=2)\n",
    "        loss = 1 - (\n",
    "            (2.0 * intersection + self.smooth)\n",
    "            / (pred.sum(dim=2).sum(dim=2) + target.sum(dim=2).sum(dim=2) + self.smooth)\n",
    "        )\n",
    "        print\n",
    "        loss.mul_(self.class_weight)\n",
    "        return loss.mean()\n",
    "\n",
    "\n",
    "class BCEDiceLoss:\n",
    "    def __init__(self, bce_weight=0.5, class_weight=None):\n",
    "        self.bce_weight = bce_weight\n",
    "        self.class_weight = torch.ones([29])\n",
    "        if class_weight is not None:\n",
    "            for c, w in class_weight.items():\n",
    "                self.class_weight[CLASS2IND[c]] = w\n",
    "        self.dice_loss = DiceLoss(sigmoid=False, class_weight=class_weight)\n",
    "\n",
    "    def __call__(self, pred, target):\n",
    "        pred_flatten = pred.view(pred.size(0), -1, pred.size(1))\n",
    "        target_flatten = target.view(target.size(0), -1, target.size(1))\n",
    "        bce = F.binary_cross_entropy_with_logits(pred_flatten, target_flatten,weight=self.class_weight, pos_weight=self.class_weight)\n",
    "        pred = F.sigmoid(pred)\n",
    "        dice = self.dice_loss(pred, target)\n",
    "        loss = bce * self.bce_weight + dice * (1 - self.bce_weight)\n",
    "        return loss\n"
   ]
  },
  {
   "cell_type": "code",
   "execution_count": 2,
   "metadata": {},
   "outputs": [
    {
     "ename": "NameError",
     "evalue": "name 'torch' is not defined",
     "output_type": "error",
     "traceback": [
      "\u001b[0;31m---------------------------------------------------------------------------\u001b[0m",
      "\u001b[0;31mNameError\u001b[0m                                 Traceback (most recent call last)",
      "Cell \u001b[0;32mIn[2], line 1\u001b[0m\n\u001b[0;32m----> 1\u001b[0m x \u001b[39m=\u001b[39m torch\u001b[39m.\u001b[39mones((\u001b[39m29\u001b[39m))\n",
      "\u001b[0;31mNameError\u001b[0m: name 'torch' is not defined"
     ]
    }
   ],
   "source": [
    "x = torch.ones((29))"
   ]
  },
  {
   "cell_type": "code",
   "execution_count": 45,
   "metadata": {},
   "outputs": [],
   "source": [
    "import torch\n",
    "pred = torch.rand((2, 29, 512, 512))\n",
    "label = torch.rand((2, 29, 512, 512))\n"
   ]
  },
  {
   "cell_type": "code",
   "execution_count": 49,
   "metadata": {},
   "outputs": [
    {
     "data": {
      "text/plain": [
       "tensor(0.)"
      ]
     },
     "execution_count": 49,
     "metadata": {},
     "output_type": "execute_result"
    }
   ],
   "source": [
    "((label[0, 0, :]==0.).sum()/label[0, 0, :].sum())"
   ]
  },
  {
   "cell_type": "code",
   "execution_count": 49,
   "metadata": {},
   "outputs": [
    {
     "name": "stdout",
     "output_type": "stream",
     "text": [
      "tensor(0.6321)\n"
     ]
    }
   ],
   "source": [
    "loss = BCEDiceLoss(class_weight={\"Trapezoid\":1.5, \"Pisiform\":2})\n",
    "print(loss(pred, label))"
   ]
  },
  {
   "cell_type": "code",
   "execution_count": 33,
   "metadata": {},
   "outputs": [
    {
     "name": "stdout",
     "output_type": "stream",
     "text": [
      "tensor([[1, 2, 1, 2]])\n"
     ]
    }
   ],
   "source": [
    "a = torch.tensor([[1,1,1,1]])\n",
    "a.mul_(torch.tensor([1,2,1,2]))\n",
    "print(a)"
   ]
  },
  {
   "cell_type": "code",
   "execution_count": 28,
   "metadata": {},
   "outputs": [
    {
     "data": {
      "text/plain": [
       "torch.Size([4])"
      ]
     },
     "execution_count": 28,
     "metadata": {},
     "output_type": "execute_result"
    }
   ],
   "source": [
    "torch.tensor([1,2,1,2]).shape"
   ]
  },
  {
   "cell_type": "code",
   "execution_count": null,
   "metadata": {},
   "outputs": [],
   "source": []
  }
 ],
 "metadata": {
  "kernelspec": {
   "display_name": "base",
   "language": "python",
   "name": "python3"
  },
  "language_info": {
   "codemirror_mode": {
    "name": "ipython",
    "version": 3
   },
   "file_extension": ".py",
   "mimetype": "text/x-python",
   "name": "python",
   "nbconvert_exporter": "python",
   "pygments_lexer": "ipython3",
   "version": "3.8.5"
  },
  "orig_nbformat": 4
 },
 "nbformat": 4,
 "nbformat_minor": 2
}
